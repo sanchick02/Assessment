{
 "cells": [
  {
   "cell_type": "markdown",
   "source": [
    "# Technical Assessment for a Full Stack AI/ML Engineer Role\n",
    "## Task\n",
    "*Develop a mini AI-based chatbot system that recommends products based on user queries.\n",
    "The chatbot should be able to understand the user's text input, process it, and recommend a\n",
    "list of products.*"
   ],
   "metadata": {
    "collapsed": false
   },
   "id": "8fdb8b118498dd92"
  },
  {
   "cell_type": "markdown",
   "source": [
    "# 1. Data Preparation:\n",
    "*a. Given a mock dataset of products in a CSV format with the following fields:*\n",
    "**i. Product ID\n",
    "ii. Product Name\n",
    "iii. Description\n",
    "iv. Category\n",
    "v. Price**\n",
    "*b. Preprocess the dataset:*\n",
    "**i. Handle missing values\n",
    "ii. Tokenization of product descriptions**"
   ],
   "metadata": {
    "collapsed": false
   },
   "id": "84996bd0f6fb6590"
  },
  {
   "cell_type": "code",
   "execution_count": 301,
   "outputs": [],
   "source": [
    "import pandas as pd\n",
    "import nltk\n",
    "from nltk.tokenize import word_tokenize\n",
    "\n",
    "import warnings\n",
    "warnings.filterwarnings('ignore')"
   ],
   "metadata": {
    "collapsed": false,
    "ExecuteTime": {
     "end_time": "2023-10-21T15:07:28.050015Z",
     "start_time": "2023-10-21T15:07:28.012497Z"
    }
   },
   "id": "47e02f46a4d5b1cd"
  },
  {
   "cell_type": "code",
   "execution_count": 302,
   "outputs": [
    {
     "data": {
      "text/plain": "   Product ID     Product Name                              Description  \\\n0           1     Smartphone A  Sleek design, 64GB storage, 12MP camera   \n1           2         Laptop B            15.6 inch, 8GB RAM, 256GB SSD   \n2           3   Casual Shoes C                  Leather, size 10, brown   \n3           4     Travel Mug D                   Stainless steel, 500ml   \n4           5  Eau De Parfum E                      Floral scent, 100ml   \n\n         Category   Price  \n0     Electronics  699.99  \n1     Electronics  999.99  \n2         Fashion   79.99  \n3  Home & Kitchen   14.99  \n4          Beauty   49.99  ",
      "text/html": "<div>\n<style scoped>\n    .dataframe tbody tr th:only-of-type {\n        vertical-align: middle;\n    }\n\n    .dataframe tbody tr th {\n        vertical-align: top;\n    }\n\n    .dataframe thead th {\n        text-align: right;\n    }\n</style>\n<table border=\"1\" class=\"dataframe\">\n  <thead>\n    <tr style=\"text-align: right;\">\n      <th></th>\n      <th>Product ID</th>\n      <th>Product Name</th>\n      <th>Description</th>\n      <th>Category</th>\n      <th>Price</th>\n    </tr>\n  </thead>\n  <tbody>\n    <tr>\n      <th>0</th>\n      <td>1</td>\n      <td>Smartphone A</td>\n      <td>Sleek design, 64GB storage, 12MP camera</td>\n      <td>Electronics</td>\n      <td>699.99</td>\n    </tr>\n    <tr>\n      <th>1</th>\n      <td>2</td>\n      <td>Laptop B</td>\n      <td>15.6 inch, 8GB RAM, 256GB SSD</td>\n      <td>Electronics</td>\n      <td>999.99</td>\n    </tr>\n    <tr>\n      <th>2</th>\n      <td>3</td>\n      <td>Casual Shoes C</td>\n      <td>Leather, size 10, brown</td>\n      <td>Fashion</td>\n      <td>79.99</td>\n    </tr>\n    <tr>\n      <th>3</th>\n      <td>4</td>\n      <td>Travel Mug D</td>\n      <td>Stainless steel, 500ml</td>\n      <td>Home &amp; Kitchen</td>\n      <td>14.99</td>\n    </tr>\n    <tr>\n      <th>4</th>\n      <td>5</td>\n      <td>Eau De Parfum E</td>\n      <td>Floral scent, 100ml</td>\n      <td>Beauty</td>\n      <td>49.99</td>\n    </tr>\n  </tbody>\n</table>\n</div>"
     },
     "execution_count": 302,
     "metadata": {},
     "output_type": "execute_result"
    }
   ],
   "source": [
    "df = pd.read_csv('mini-product-recommender-dataset.csv')\n",
    "df.head()"
   ],
   "metadata": {
    "collapsed": false,
    "ExecuteTime": {
     "end_time": "2023-10-21T15:07:28.072838Z",
     "start_time": "2023-10-21T15:07:28.016100Z"
    }
   },
   "id": "49bcf4d1c5c7f84c"
  },
  {
   "cell_type": "code",
   "execution_count": 303,
   "outputs": [
    {
     "name": "stdout",
     "output_type": "stream",
     "text": [
      "<class 'pandas.core.frame.DataFrame'>\n",
      "RangeIndex: 40 entries, 0 to 39\n",
      "Data columns (total 5 columns):\n",
      " #   Column        Non-Null Count  Dtype  \n",
      "---  ------        --------------  -----  \n",
      " 0   Product ID    40 non-null     int64  \n",
      " 1   Product Name  38 non-null     object \n",
      " 2   Description   36 non-null     object \n",
      " 3   Category      37 non-null     object \n",
      " 4   Price         36 non-null     float64\n",
      "dtypes: float64(1), int64(1), object(3)\n",
      "memory usage: 1.7+ KB\n"
     ]
    }
   ],
   "source": [
    "df.info()"
   ],
   "metadata": {
    "collapsed": false,
    "ExecuteTime": {
     "end_time": "2023-10-21T15:07:28.073081Z",
     "start_time": "2023-10-21T15:07:28.028654Z"
    }
   },
   "id": "2e296fa52654e942"
  },
  {
   "cell_type": "code",
   "execution_count": 304,
   "outputs": [
    {
     "data": {
      "text/plain": "Product ID      0\nProduct Name    2\nDescription     4\nCategory        3\nPrice           4\ndtype: int64"
     },
     "execution_count": 304,
     "metadata": {},
     "output_type": "execute_result"
    }
   ],
   "source": [
    "df.isnull().sum()"
   ],
   "metadata": {
    "collapsed": false,
    "ExecuteTime": {
     "end_time": "2023-10-21T15:07:28.073332Z",
     "start_time": "2023-10-21T15:07:28.031883Z"
    }
   },
   "id": "a87d4cc0eded2e60"
  },
  {
   "cell_type": "code",
   "execution_count": 305,
   "outputs": [
    {
     "data": {
      "text/plain": "Category\nElectronics               8\nFashion                   7\nHome & Kitchen            6\nBeauty                    3\nBooks                     2\nGrocery                   2\nSports                    2\nToys & Games              2\nMovies & TV               1\nMusical Instruments       1\nArts & Crafts             1\nHealth & Personal Care    1\nPets                      1\nName: count, dtype: int64"
     },
     "execution_count": 305,
     "metadata": {},
     "output_type": "execute_result"
    }
   ],
   "source": [
    "df['Category'].value_counts()"
   ],
   "metadata": {
    "collapsed": false,
    "ExecuteTime": {
     "end_time": "2023-10-21T15:07:28.073446Z",
     "start_time": "2023-10-21T15:07:28.035977Z"
    }
   },
   "id": "ed8e931e9a0e4813"
  },
  {
   "cell_type": "code",
   "execution_count": 306,
   "outputs": [],
   "source": [
    "df['Category'].fillna('Others', inplace=True)"
   ],
   "metadata": {
    "collapsed": false,
    "ExecuteTime": {
     "end_time": "2023-10-21T15:07:28.073497Z",
     "start_time": "2023-10-21T15:07:28.038501Z"
    }
   },
   "id": "76412f8c3ecd3d72"
  },
  {
   "cell_type": "code",
   "execution_count": 307,
   "outputs": [
    {
     "data": {
      "text/plain": "Product ID      0\nProduct Name    2\nDescription     4\nCategory        0\nPrice           4\ndtype: int64"
     },
     "execution_count": 307,
     "metadata": {},
     "output_type": "execute_result"
    }
   ],
   "source": [
    "df.isnull().sum()"
   ],
   "metadata": {
    "collapsed": false,
    "ExecuteTime": {
     "end_time": "2023-10-21T15:07:28.073577Z",
     "start_time": "2023-10-21T15:07:28.041316Z"
    }
   },
   "id": "1209626245ff14fb"
  },
  {
   "cell_type": "code",
   "execution_count": 308,
   "outputs": [],
   "source": [
    "# drop rows with missing values\n",
    "df.dropna(inplace=True)"
   ],
   "metadata": {
    "collapsed": false,
    "ExecuteTime": {
     "end_time": "2023-10-21T15:07:28.073608Z",
     "start_time": "2023-10-21T15:07:28.043811Z"
    }
   },
   "id": "f3988ad313026d6c"
  },
  {
   "cell_type": "code",
   "execution_count": 309,
   "outputs": [
    {
     "data": {
      "text/plain": "Product ID      0\nProduct Name    0\nDescription     0\nCategory        0\nPrice           0\ndtype: int64"
     },
     "execution_count": 309,
     "metadata": {},
     "output_type": "execute_result"
    }
   ],
   "source": [
    "df.isnull().sum()"
   ],
   "metadata": {
    "collapsed": false,
    "ExecuteTime": {
     "end_time": "2023-10-21T15:07:28.073670Z",
     "start_time": "2023-10-21T15:07:28.046142Z"
    }
   },
   "id": "6289b5947cb261fb"
  },
  {
   "cell_type": "code",
   "execution_count": 310,
   "outputs": [
    {
     "data": {
      "text/plain": "Product ID      0\nProduct Name    0\nDescription     0\nCategory        0\nPrice           0\ndtype: int64"
     },
     "execution_count": 310,
     "metadata": {},
     "output_type": "execute_result"
    }
   ],
   "source": [
    "df.isnull().sum()"
   ],
   "metadata": {
    "collapsed": false,
    "ExecuteTime": {
     "end_time": "2023-10-21T15:07:28.073802Z",
     "start_time": "2023-10-21T15:07:28.048554Z"
    }
   },
   "id": "bc21aa777066a49b"
  },
  {
   "cell_type": "code",
   "execution_count": 311,
   "outputs": [
    {
     "data": {
      "text/plain": "   Product ID     Product Name                              Description  \\\n0           1     Smartphone A  Sleek design, 64GB storage, 12MP camera   \n1           2         Laptop B            15.6 inch, 8GB RAM, 256GB SSD   \n2           3   Casual Shoes C                  Leather, size 10, brown   \n3           4     Travel Mug D                   Stainless steel, 500ml   \n4           5  Eau De Parfum E                      Floral scent, 100ml   \n\n         Category   Price                         Tokenized_Description  \n0     Electronics  699.99  [sleek, design, 64gb, storage, 12mp, camera]  \n1     Electronics  999.99            [15.6, inch, 8gb, ram, 256gb, ssd]  \n2         Fashion   79.99                    [leather, size, 10, brown]  \n3  Home & Kitchen   14.99                     [stainless, steel, 500ml]  \n4          Beauty   49.99                        [floral, scent, 100ml]  ",
      "text/html": "<div>\n<style scoped>\n    .dataframe tbody tr th:only-of-type {\n        vertical-align: middle;\n    }\n\n    .dataframe tbody tr th {\n        vertical-align: top;\n    }\n\n    .dataframe thead th {\n        text-align: right;\n    }\n</style>\n<table border=\"1\" class=\"dataframe\">\n  <thead>\n    <tr style=\"text-align: right;\">\n      <th></th>\n      <th>Product ID</th>\n      <th>Product Name</th>\n      <th>Description</th>\n      <th>Category</th>\n      <th>Price</th>\n      <th>Tokenized_Description</th>\n    </tr>\n  </thead>\n  <tbody>\n    <tr>\n      <th>0</th>\n      <td>1</td>\n      <td>Smartphone A</td>\n      <td>Sleek design, 64GB storage, 12MP camera</td>\n      <td>Electronics</td>\n      <td>699.99</td>\n      <td>[sleek, design, 64gb, storage, 12mp, camera]</td>\n    </tr>\n    <tr>\n      <th>1</th>\n      <td>2</td>\n      <td>Laptop B</td>\n      <td>15.6 inch, 8GB RAM, 256GB SSD</td>\n      <td>Electronics</td>\n      <td>999.99</td>\n      <td>[15.6, inch, 8gb, ram, 256gb, ssd]</td>\n    </tr>\n    <tr>\n      <th>2</th>\n      <td>3</td>\n      <td>Casual Shoes C</td>\n      <td>Leather, size 10, brown</td>\n      <td>Fashion</td>\n      <td>79.99</td>\n      <td>[leather, size, 10, brown]</td>\n    </tr>\n    <tr>\n      <th>3</th>\n      <td>4</td>\n      <td>Travel Mug D</td>\n      <td>Stainless steel, 500ml</td>\n      <td>Home &amp; Kitchen</td>\n      <td>14.99</td>\n      <td>[stainless, steel, 500ml]</td>\n    </tr>\n    <tr>\n      <th>4</th>\n      <td>5</td>\n      <td>Eau De Parfum E</td>\n      <td>Floral scent, 100ml</td>\n      <td>Beauty</td>\n      <td>49.99</td>\n      <td>[floral, scent, 100ml]</td>\n    </tr>\n  </tbody>\n</table>\n</div>"
     },
     "execution_count": 311,
     "metadata": {},
     "output_type": "execute_result"
    }
   ],
   "source": [
    "# tokenize the product descriptions so that the model can understand the text based on user query\n",
    "df['Tokenized_Description'] = df['Description'].apply(word_tokenize)\n",
    "# convert all words to lowercase\n",
    "df['Tokenized_Description'] = df['Tokenized_Description'].apply(lambda x: [word.lower() for word in x])\n",
    "# remove , from the tokenized descriptions\n",
    "df['Tokenized_Description'] = df['Tokenized_Description'].apply(lambda x: [word for word in x if word != ','])\n",
    "df.head()\n"
   ],
   "metadata": {
    "collapsed": false,
    "ExecuteTime": {
     "end_time": "2023-10-21T15:07:28.074629Z",
     "start_time": "2023-10-21T15:07:28.055351Z"
    }
   },
   "id": "3734fb538eb7946e"
  },
  {
   "cell_type": "code",
   "execution_count": 312,
   "outputs": [],
   "source": [
    "# save the processed data to a csv file and first row is header\n",
    "df.to_csv('processed_data.csv', index=False, header=True)\n"
   ],
   "metadata": {
    "collapsed": false,
    "ExecuteTime": {
     "end_time": "2023-10-21T15:07:28.074692Z",
     "start_time": "2023-10-21T15:07:28.057629Z"
    }
   },
   "id": "8ff27e0ae6abfbd4"
  },
  {
   "cell_type": "code",
   "execution_count": 313,
   "outputs": [],
   "source": [
    "# read the processed data\n",
    "df_new = pd.read_csv('processed_data.csv')"
   ],
   "metadata": {
    "collapsed": false,
    "ExecuteTime": {
     "end_time": "2023-10-21T15:07:28.074767Z",
     "start_time": "2023-10-21T15:07:28.060391Z"
    }
   },
   "id": "17bb71d17477ae33"
  },
  {
   "cell_type": "markdown",
   "source": [
    "# 2. Model Training:\n",
    "*a. Use the processed data to train a simple recommendation model, based on\n",
    "the candidate's preference.\n",
    "b. The model should take a user's query and output the top 3 product\n",
    "recommendations based on similarity to product descriptions.*"
   ],
   "metadata": {
    "collapsed": false
   },
   "id": "748017de03190ddc"
  },
  {
   "cell_type": "code",
   "execution_count": 314,
   "outputs": [],
   "source": [
    "# import libraries\n",
    "import pandas as pd\n",
    "import nltk\n",
    "from nltk.tokenize import word_tokenize\n",
    "from sklearn.feature_extraction.text import TfidfVectorizer\n",
    "from sklearn.metrics.pairwise import cosine_similarity\n",
    "import warnings\n",
    "warnings.filterwarnings('ignore')\n"
   ],
   "metadata": {
    "collapsed": false,
    "ExecuteTime": {
     "end_time": "2023-10-21T15:07:28.074816Z",
     "start_time": "2023-10-21T15:07:28.065515Z"
    }
   },
   "id": "5757fba30eb4f150"
  },
  {
   "cell_type": "code",
   "execution_count": 315,
   "outputs": [
    {
     "data": {
      "text/plain": "   Product ID     Product Name                              Description  \\\n0           1     Smartphone A  Sleek design, 64GB storage, 12MP camera   \n1           2         Laptop B            15.6 inch, 8GB RAM, 256GB SSD   \n2           3   Casual Shoes C                  Leather, size 10, brown   \n3           4     Travel Mug D                   Stainless steel, 500ml   \n4           5  Eau De Parfum E                      Floral scent, 100ml   \n\n         Category   Price                              Tokenized_Description  \n0     Electronics  699.99  ['sleek', 'design', '64gb', 'storage', '12mp',...  \n1     Electronics  999.99     ['15.6', 'inch', '8gb', 'ram', '256gb', 'ssd']  \n2         Fashion   79.99                 ['leather', 'size', '10', 'brown']  \n3  Home & Kitchen   14.99                    ['stainless', 'steel', '500ml']  \n4          Beauty   49.99                       ['floral', 'scent', '100ml']  ",
      "text/html": "<div>\n<style scoped>\n    .dataframe tbody tr th:only-of-type {\n        vertical-align: middle;\n    }\n\n    .dataframe tbody tr th {\n        vertical-align: top;\n    }\n\n    .dataframe thead th {\n        text-align: right;\n    }\n</style>\n<table border=\"1\" class=\"dataframe\">\n  <thead>\n    <tr style=\"text-align: right;\">\n      <th></th>\n      <th>Product ID</th>\n      <th>Product Name</th>\n      <th>Description</th>\n      <th>Category</th>\n      <th>Price</th>\n      <th>Tokenized_Description</th>\n    </tr>\n  </thead>\n  <tbody>\n    <tr>\n      <th>0</th>\n      <td>1</td>\n      <td>Smartphone A</td>\n      <td>Sleek design, 64GB storage, 12MP camera</td>\n      <td>Electronics</td>\n      <td>699.99</td>\n      <td>['sleek', 'design', '64gb', 'storage', '12mp',...</td>\n    </tr>\n    <tr>\n      <th>1</th>\n      <td>2</td>\n      <td>Laptop B</td>\n      <td>15.6 inch, 8GB RAM, 256GB SSD</td>\n      <td>Electronics</td>\n      <td>999.99</td>\n      <td>['15.6', 'inch', '8gb', 'ram', '256gb', 'ssd']</td>\n    </tr>\n    <tr>\n      <th>2</th>\n      <td>3</td>\n      <td>Casual Shoes C</td>\n      <td>Leather, size 10, brown</td>\n      <td>Fashion</td>\n      <td>79.99</td>\n      <td>['leather', 'size', '10', 'brown']</td>\n    </tr>\n    <tr>\n      <th>3</th>\n      <td>4</td>\n      <td>Travel Mug D</td>\n      <td>Stainless steel, 500ml</td>\n      <td>Home &amp; Kitchen</td>\n      <td>14.99</td>\n      <td>['stainless', 'steel', '500ml']</td>\n    </tr>\n    <tr>\n      <th>4</th>\n      <td>5</td>\n      <td>Eau De Parfum E</td>\n      <td>Floral scent, 100ml</td>\n      <td>Beauty</td>\n      <td>49.99</td>\n      <td>['floral', 'scent', '100ml']</td>\n    </tr>\n  </tbody>\n</table>\n</div>"
     },
     "execution_count": 315,
     "metadata": {},
     "output_type": "execute_result"
    }
   ],
   "source": [
    "# read the processed data\n",
    "df = pd.read_csv('processed_data.csv')\n",
    "df.head()"
   ],
   "metadata": {
    "collapsed": false,
    "ExecuteTime": {
     "end_time": "2023-10-21T15:07:28.074984Z",
     "start_time": "2023-10-21T15:07:28.067187Z"
    }
   },
   "id": "e5be421429b8b40a"
  },
  {
   "cell_type": "code",
   "execution_count": 316,
   "outputs": [],
   "source": [
    "# create a tfidf vectorizer object\n",
    "tfidf = TfidfVectorizer()\n"
   ],
   "metadata": {
    "collapsed": false,
    "ExecuteTime": {
     "end_time": "2023-10-21T15:07:28.084106Z",
     "start_time": "2023-10-21T15:07:28.072923Z"
    }
   },
   "id": "64b3c7caf23d17e"
  },
  {
   "cell_type": "code",
   "execution_count": 317,
   "outputs": [
    {
     "data": {
      "text/plain": "TfidfVectorizer()",
      "text/html": "<style>#sk-container-id-13 {color: black;}#sk-container-id-13 pre{padding: 0;}#sk-container-id-13 div.sk-toggleable {background-color: white;}#sk-container-id-13 label.sk-toggleable__label {cursor: pointer;display: block;width: 100%;margin-bottom: 0;padding: 0.3em;box-sizing: border-box;text-align: center;}#sk-container-id-13 label.sk-toggleable__label-arrow:before {content: \"▸\";float: left;margin-right: 0.25em;color: #696969;}#sk-container-id-13 label.sk-toggleable__label-arrow:hover:before {color: black;}#sk-container-id-13 div.sk-estimator:hover label.sk-toggleable__label-arrow:before {color: black;}#sk-container-id-13 div.sk-toggleable__content {max-height: 0;max-width: 0;overflow: hidden;text-align: left;background-color: #f0f8ff;}#sk-container-id-13 div.sk-toggleable__content pre {margin: 0.2em;color: black;border-radius: 0.25em;background-color: #f0f8ff;}#sk-container-id-13 input.sk-toggleable__control:checked~div.sk-toggleable__content {max-height: 200px;max-width: 100%;overflow: auto;}#sk-container-id-13 input.sk-toggleable__control:checked~label.sk-toggleable__label-arrow:before {content: \"▾\";}#sk-container-id-13 div.sk-estimator input.sk-toggleable__control:checked~label.sk-toggleable__label {background-color: #d4ebff;}#sk-container-id-13 div.sk-label input.sk-toggleable__control:checked~label.sk-toggleable__label {background-color: #d4ebff;}#sk-container-id-13 input.sk-hidden--visually {border: 0;clip: rect(1px 1px 1px 1px);clip: rect(1px, 1px, 1px, 1px);height: 1px;margin: -1px;overflow: hidden;padding: 0;position: absolute;width: 1px;}#sk-container-id-13 div.sk-estimator {font-family: monospace;background-color: #f0f8ff;border: 1px dotted black;border-radius: 0.25em;box-sizing: border-box;margin-bottom: 0.5em;}#sk-container-id-13 div.sk-estimator:hover {background-color: #d4ebff;}#sk-container-id-13 div.sk-parallel-item::after {content: \"\";width: 100%;border-bottom: 1px solid gray;flex-grow: 1;}#sk-container-id-13 div.sk-label:hover label.sk-toggleable__label {background-color: #d4ebff;}#sk-container-id-13 div.sk-serial::before {content: \"\";position: absolute;border-left: 1px solid gray;box-sizing: border-box;top: 0;bottom: 0;left: 50%;z-index: 0;}#sk-container-id-13 div.sk-serial {display: flex;flex-direction: column;align-items: center;background-color: white;padding-right: 0.2em;padding-left: 0.2em;position: relative;}#sk-container-id-13 div.sk-item {position: relative;z-index: 1;}#sk-container-id-13 div.sk-parallel {display: flex;align-items: stretch;justify-content: center;background-color: white;position: relative;}#sk-container-id-13 div.sk-item::before, #sk-container-id-13 div.sk-parallel-item::before {content: \"\";position: absolute;border-left: 1px solid gray;box-sizing: border-box;top: 0;bottom: 0;left: 50%;z-index: -1;}#sk-container-id-13 div.sk-parallel-item {display: flex;flex-direction: column;z-index: 1;position: relative;background-color: white;}#sk-container-id-13 div.sk-parallel-item:first-child::after {align-self: flex-end;width: 50%;}#sk-container-id-13 div.sk-parallel-item:last-child::after {align-self: flex-start;width: 50%;}#sk-container-id-13 div.sk-parallel-item:only-child::after {width: 0;}#sk-container-id-13 div.sk-dashed-wrapped {border: 1px dashed gray;margin: 0 0.4em 0.5em 0.4em;box-sizing: border-box;padding-bottom: 0.4em;background-color: white;}#sk-container-id-13 div.sk-label label {font-family: monospace;font-weight: bold;display: inline-block;line-height: 1.2em;}#sk-container-id-13 div.sk-label-container {text-align: center;}#sk-container-id-13 div.sk-container {/* jupyter's `normalize.less` sets `[hidden] { display: none; }` but bootstrap.min.css set `[hidden] { display: none !important; }` so we also need the `!important` here to be able to override the default hidden behavior on the sphinx rendered scikit-learn.org. See: https://github.com/scikit-learn/scikit-learn/issues/21755 */display: inline-block !important;position: relative;}#sk-container-id-13 div.sk-text-repr-fallback {display: none;}</style><div id=\"sk-container-id-13\" class=\"sk-top-container\"><div class=\"sk-text-repr-fallback\"><pre>TfidfVectorizer()</pre><b>In a Jupyter environment, please rerun this cell to show the HTML representation or trust the notebook. <br />On GitHub, the HTML representation is unable to render, please try loading this page with nbviewer.org.</b></div><div class=\"sk-container\" hidden><div class=\"sk-item\"><div class=\"sk-estimator sk-toggleable\"><input class=\"sk-toggleable__control sk-hidden--visually\" id=\"sk-estimator-id-13\" type=\"checkbox\" checked><label for=\"sk-estimator-id-13\" class=\"sk-toggleable__label sk-toggleable__label-arrow\">TfidfVectorizer</label><div class=\"sk-toggleable__content\"><pre>TfidfVectorizer()</pre></div></div></div></div></div>"
     },
     "execution_count": 317,
     "metadata": {},
     "output_type": "execute_result"
    }
   ],
   "source": [
    "# fit the vectorizer object on the tokenized product descriptions\n",
    "tfidf.fit(df['Tokenized_Description'])"
   ],
   "metadata": {
    "collapsed": false,
    "ExecuteTime": {
     "end_time": "2023-10-21T15:07:28.086687Z",
     "start_time": "2023-10-21T15:07:28.076066Z"
    }
   },
   "id": "51226641a0645537"
  },
  {
   "cell_type": "code",
   "execution_count": 318,
   "outputs": [],
   "source": [
    "# transform the tokenized product descriptions\n",
    "tfidf_matrix = tfidf.transform(df['Tokenized_Description'])\n"
   ],
   "metadata": {
    "collapsed": false,
    "ExecuteTime": {
     "end_time": "2023-10-21T15:07:28.086747Z",
     "start_time": "2023-10-21T15:07:28.080531Z"
    }
   },
   "id": "412db99d2cf9d4bb"
  },
  {
   "cell_type": "code",
   "execution_count": 319,
   "outputs": [],
   "source": [
    "# compute the cosine similarity matrix\n",
    "cosine_sim = cosine_similarity(tfidf_matrix, tfidf_matrix)\n"
   ],
   "metadata": {
    "collapsed": false,
    "ExecuteTime": {
     "end_time": "2023-10-21T15:07:28.087281Z",
     "start_time": "2023-10-21T15:07:28.083211Z"
    }
   },
   "id": "e0a4903c85910c11"
  },
  {
   "cell_type": "code",
   "execution_count": 320,
   "outputs": [],
   "source": [
    "# save the cosine similarity matrix to a csv file\n",
    "pd.DataFrame(cosine_sim).to_csv('cosine_sim.csv', index=False, header=False)"
   ],
   "metadata": {
    "collapsed": false,
    "ExecuteTime": {
     "end_time": "2023-10-21T15:07:28.089180Z",
     "start_time": "2023-10-21T15:07:28.086091Z"
    }
   },
   "id": "b89cad36e9239bde"
  },
  {
   "cell_type": "code",
   "execution_count": 321,
   "outputs": [],
   "source": [
    "# read the cosine similarity matrix\n",
    "cosine_sim = pd.read_csv('cosine_sim.csv', header=None)"
   ],
   "metadata": {
    "collapsed": false,
    "ExecuteTime": {
     "end_time": "2023-10-21T15:07:28.094153Z",
     "start_time": "2023-10-21T15:07:28.089098Z"
    }
   },
   "id": "fb9fa3103f6a8762"
  },
  {
   "cell_type": "code",
   "execution_count": 322,
   "outputs": [],
   "source": [
    "# create a series of product names\n",
    "product_names = pd.Series(df['Product Name'])\n",
    "\n",
    "#create a series of product descriptions\n",
    "product_descriptions = pd.Series(df['Description'])\n",
    "# price\n",
    "product_price = pd.Series(df['Price'])"
   ],
   "metadata": {
    "collapsed": false,
    "ExecuteTime": {
     "end_time": "2023-10-21T15:07:28.111803Z",
     "start_time": "2023-10-21T15:07:28.092609Z"
    }
   },
   "id": "5eeeff0751a2fef4"
  },
  {
   "cell_type": "code",
   "execution_count": 323,
   "outputs": [],
   "source": [
    "# function to recommend products based on user query\n",
    "def recommend_products(query):\n",
    "    # if the query is not in the product names, return an error message\n",
    "    # tokenize the user query\n",
    "    query = word_tokenize(query)\n",
    "    # transform the tokenized query\n",
    "    query = tfidf.transform(query)\n",
    "    # compute the cosine similarity between the user query and all product descriptions\n",
    "    similarity_scores = cosine_similarity(query, tfidf_matrix)\n",
    "    # get the indices of the top 3 most similar products\n",
    "    indices = similarity_scores.argsort()[0][-3:]\n",
    "    # get the product names corresponding to the indices\n",
    "    product_names = df['Product Name'].iloc[indices]\n",
    "    # get the product descriptions corresponding to the indices\n",
    "    product_descriptions = df['Description'].iloc[indices]\n",
    "    # get the product prices corresponding to the indices\n",
    "    product_prices = df['Price'].iloc[indices]\n",
    "    # return the product names\n",
    "    return product_names, product_descriptions, product_prices"
   ],
   "metadata": {
    "collapsed": false,
    "ExecuteTime": {
     "end_time": "2023-10-21T15:07:28.124602Z",
     "start_time": "2023-10-21T15:07:28.095447Z"
    }
   },
   "id": "bd1de5f1756ebf42"
  },
  {
   "cell_type": "code",
   "execution_count": 324,
   "outputs": [
    {
     "data": {
      "text/plain": "(9      Wrist Watch J\n 2     Casual Shoes C\n 28        Sandals H1\n Name: Product Name, dtype: object,\n 9     Analog, leather strap, water-resistant\n 2                    Leather, size 10, brown\n 28                         Leather, size 7, \n Name: Description, dtype: object,\n 9     199.99\n 2      79.99\n 28     49.99\n Name: Price, dtype: float64)"
     },
     "execution_count": 324,
     "metadata": {},
     "output_type": "execute_result"
    }
   ],
   "source": [
    "# test the function\n",
    "recommend_products('leather')"
   ],
   "metadata": {
    "collapsed": false,
    "ExecuteTime": {
     "end_time": "2023-10-21T15:07:28.125474Z",
     "start_time": "2023-10-21T15:07:28.097686Z"
    }
   },
   "id": "7f339b8c12f97b65"
  },
  {
   "cell_type": "code",
   "execution_count": 325,
   "outputs": [
    {
     "data": {
      "text/plain": "(30            Pet Food K1\n 31    Portable Charger L1\n 10     Running Sneakers K\n Name: Product Name, dtype: object,\n 30        For adult dogs, chicken flavor\n 31                 10000mAh, 2 USB ports\n 10    Breathable material, size 9, white\n Name: Description, dtype: object,\n 30     54.99\n 31     24.99\n 10    109.99\n Name: Price, dtype: float64)"
     },
     "execution_count": 325,
     "metadata": {},
     "output_type": "execute_result"
    }
   ],
   "source": [
    "recommend_products('Breathable') "
   ],
   "metadata": {
    "collapsed": false,
    "ExecuteTime": {
     "end_time": "2023-10-21T15:07:28.125777Z",
     "start_time": "2023-10-21T15:07:28.101996Z"
    }
   },
   "id": "5c01914f80dde5b9"
  }
 ],
 "metadata": {
  "kernelspec": {
   "display_name": "Python 3",
   "language": "python",
   "name": "python3"
  },
  "language_info": {
   "codemirror_mode": {
    "name": "ipython",
    "version": 2
   },
   "file_extension": ".py",
   "mimetype": "text/x-python",
   "name": "python",
   "nbconvert_exporter": "python",
   "pygments_lexer": "ipython2",
   "version": "2.7.6"
  }
 },
 "nbformat": 4,
 "nbformat_minor": 5
}
