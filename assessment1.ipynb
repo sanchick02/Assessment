{
 "cells": [
  {
   "cell_type": "markdown",
   "source": [
    "# Technical Assessment for a Full Stack AI/ML Engineer Role\n",
    "## Task\n",
    "*Develop a mini AI-based chatbot system that recommends products based on user queries.\n",
    "The chatbot should be able to understand the user's text input, process it, and recommend a\n",
    "list of products.*"
   ],
   "metadata": {
    "collapsed": false
   },
   "id": "8fdb8b118498dd92"
  },
  {
   "cell_type": "markdown",
   "source": [
    "# 1. Data Preparation:\n",
    "*a. Given a mock dataset of products in a CSV format with the following fields:*\n",
    "**i. Product ID\n",
    "ii. Product Name\n",
    "iii. Description\n",
    "iv. Category\n",
    "v. Price**\n",
    "*b. Preprocess the dataset:*\n",
    "**i. Handle missing values\n",
    "ii. Tokenization of product descriptions**"
   ],
   "metadata": {
    "collapsed": false
   },
   "id": "84996bd0f6fb6590"
  },
  {
   "cell_type": "code",
   "execution_count": 562,
   "outputs": [],
   "source": [
    "import pandas as pd\n",
    "import nltk\n",
    "from nltk.tokenize import word_tokenize\n",
    "\n",
    "import warnings\n",
    "warnings.filterwarnings('ignore')"
   ],
   "metadata": {
    "collapsed": false,
    "ExecuteTime": {
     "end_time": "2023-10-19T11:53:31.975214Z",
     "start_time": "2023-10-19T11:53:31.927197Z"
    }
   },
   "id": "47e02f46a4d5b1cd"
  },
  {
   "cell_type": "code",
   "execution_count": 563,
   "outputs": [
    {
     "data": {
      "text/plain": "   Product ID     Product Name                              Description  \\\n0           1     Smartphone A  Sleek design, 64GB storage, 12MP camera   \n1           2         Laptop B            15.6 inch, 8GB RAM, 256GB SSD   \n2           3   Casual Shoes C                  Leather, size 10, brown   \n3           4     Travel Mug D                   Stainless steel, 500ml   \n4           5  Eau De Parfum E                      Floral scent, 100ml   \n\n         Category   Price  \n0     Electronics  699.99  \n1     Electronics  999.99  \n2         Fashion   79.99  \n3  Home & Kitchen   14.99  \n4          Beauty   49.99  ",
      "text/html": "<div>\n<style scoped>\n    .dataframe tbody tr th:only-of-type {\n        vertical-align: middle;\n    }\n\n    .dataframe tbody tr th {\n        vertical-align: top;\n    }\n\n    .dataframe thead th {\n        text-align: right;\n    }\n</style>\n<table border=\"1\" class=\"dataframe\">\n  <thead>\n    <tr style=\"text-align: right;\">\n      <th></th>\n      <th>Product ID</th>\n      <th>Product Name</th>\n      <th>Description</th>\n      <th>Category</th>\n      <th>Price</th>\n    </tr>\n  </thead>\n  <tbody>\n    <tr>\n      <th>0</th>\n      <td>1</td>\n      <td>Smartphone A</td>\n      <td>Sleek design, 64GB storage, 12MP camera</td>\n      <td>Electronics</td>\n      <td>699.99</td>\n    </tr>\n    <tr>\n      <th>1</th>\n      <td>2</td>\n      <td>Laptop B</td>\n      <td>15.6 inch, 8GB RAM, 256GB SSD</td>\n      <td>Electronics</td>\n      <td>999.99</td>\n    </tr>\n    <tr>\n      <th>2</th>\n      <td>3</td>\n      <td>Casual Shoes C</td>\n      <td>Leather, size 10, brown</td>\n      <td>Fashion</td>\n      <td>79.99</td>\n    </tr>\n    <tr>\n      <th>3</th>\n      <td>4</td>\n      <td>Travel Mug D</td>\n      <td>Stainless steel, 500ml</td>\n      <td>Home &amp; Kitchen</td>\n      <td>14.99</td>\n    </tr>\n    <tr>\n      <th>4</th>\n      <td>5</td>\n      <td>Eau De Parfum E</td>\n      <td>Floral scent, 100ml</td>\n      <td>Beauty</td>\n      <td>49.99</td>\n    </tr>\n  </tbody>\n</table>\n</div>"
     },
     "execution_count": 563,
     "metadata": {},
     "output_type": "execute_result"
    }
   ],
   "source": [
    "df = pd.read_csv('mini-product-recommender-dataset.csv')\n",
    "df.head()"
   ],
   "metadata": {
    "collapsed": false,
    "ExecuteTime": {
     "end_time": "2023-10-19T11:53:31.978655Z",
     "start_time": "2023-10-19T11:53:31.929329Z"
    }
   },
   "id": "49bcf4d1c5c7f84c"
  },
  {
   "cell_type": "code",
   "execution_count": 564,
   "outputs": [
    {
     "name": "stdout",
     "output_type": "stream",
     "text": [
      "<class 'pandas.core.frame.DataFrame'>\n",
      "RangeIndex: 40 entries, 0 to 39\n",
      "Data columns (total 5 columns):\n",
      " #   Column        Non-Null Count  Dtype  \n",
      "---  ------        --------------  -----  \n",
      " 0   Product ID    40 non-null     int64  \n",
      " 1   Product Name  38 non-null     object \n",
      " 2   Description   36 non-null     object \n",
      " 3   Category      37 non-null     object \n",
      " 4   Price         36 non-null     float64\n",
      "dtypes: float64(1), int64(1), object(3)\n",
      "memory usage: 1.7+ KB\n"
     ]
    }
   ],
   "source": [
    "df.info()"
   ],
   "metadata": {
    "collapsed": false,
    "ExecuteTime": {
     "end_time": "2023-10-19T11:53:31.979100Z",
     "start_time": "2023-10-19T11:53:31.935402Z"
    }
   },
   "id": "2e296fa52654e942"
  },
  {
   "cell_type": "code",
   "execution_count": 565,
   "outputs": [
    {
     "data": {
      "text/plain": "Product ID      0\nProduct Name    2\nDescription     4\nCategory        3\nPrice           4\ndtype: int64"
     },
     "execution_count": 565,
     "metadata": {},
     "output_type": "execute_result"
    }
   ],
   "source": [
    "df.isnull().sum()"
   ],
   "metadata": {
    "collapsed": false,
    "ExecuteTime": {
     "end_time": "2023-10-19T11:53:31.979212Z",
     "start_time": "2023-10-19T11:53:31.938551Z"
    }
   },
   "id": "a87d4cc0eded2e60"
  },
  {
   "cell_type": "code",
   "execution_count": 566,
   "outputs": [
    {
     "data": {
      "text/plain": "Category\nElectronics               8\nFashion                   7\nHome & Kitchen            6\nBeauty                    3\nBooks                     2\nGrocery                   2\nSports                    2\nToys & Games              2\nMovies & TV               1\nMusical Instruments       1\nArts & Crafts             1\nHealth & Personal Care    1\nPets                      1\nName: count, dtype: int64"
     },
     "execution_count": 566,
     "metadata": {},
     "output_type": "execute_result"
    }
   ],
   "source": [
    "df['Category'].value_counts()"
   ],
   "metadata": {
    "collapsed": false,
    "ExecuteTime": {
     "end_time": "2023-10-19T11:53:32.005082Z",
     "start_time": "2023-10-19T11:53:31.943262Z"
    }
   },
   "id": "ed8e931e9a0e4813"
  },
  {
   "cell_type": "code",
   "execution_count": 567,
   "outputs": [],
   "source": [
    "df['Category'].fillna('Others', inplace=True)"
   ],
   "metadata": {
    "collapsed": false,
    "ExecuteTime": {
     "end_time": "2023-10-19T11:53:32.005181Z",
     "start_time": "2023-10-19T11:53:31.946093Z"
    }
   },
   "id": "76412f8c3ecd3d72"
  },
  {
   "cell_type": "code",
   "execution_count": 568,
   "outputs": [
    {
     "data": {
      "text/plain": "Product ID      0\nProduct Name    2\nDescription     4\nCategory        0\nPrice           4\ndtype: int64"
     },
     "execution_count": 568,
     "metadata": {},
     "output_type": "execute_result"
    }
   ],
   "source": [
    "df.isnull().sum()"
   ],
   "metadata": {
    "collapsed": false,
    "ExecuteTime": {
     "end_time": "2023-10-19T11:53:32.005278Z",
     "start_time": "2023-10-19T11:53:31.948618Z"
    }
   },
   "id": "1209626245ff14fb"
  },
  {
   "cell_type": "code",
   "execution_count": 569,
   "outputs": [],
   "source": [
    "# drop rows with missing values\n",
    "df.dropna(inplace=True)"
   ],
   "metadata": {
    "collapsed": false,
    "ExecuteTime": {
     "end_time": "2023-10-19T11:53:32.005316Z",
     "start_time": "2023-10-19T11:53:31.951910Z"
    }
   },
   "id": "f3988ad313026d6c"
  },
  {
   "cell_type": "code",
   "execution_count": 570,
   "outputs": [
    {
     "data": {
      "text/plain": "Product ID      0\nProduct Name    0\nDescription     0\nCategory        0\nPrice           0\ndtype: int64"
     },
     "execution_count": 570,
     "metadata": {},
     "output_type": "execute_result"
    }
   ],
   "source": [
    "df.isnull().sum()"
   ],
   "metadata": {
    "collapsed": false,
    "ExecuteTime": {
     "end_time": "2023-10-19T11:53:32.005398Z",
     "start_time": "2023-10-19T11:53:31.954796Z"
    }
   },
   "id": "6289b5947cb261fb"
  },
  {
   "cell_type": "code",
   "execution_count": 571,
   "outputs": [
    {
     "data": {
      "text/plain": "Product ID      0\nProduct Name    0\nDescription     0\nCategory        0\nPrice           0\ndtype: int64"
     },
     "execution_count": 571,
     "metadata": {},
     "output_type": "execute_result"
    }
   ],
   "source": [
    "df.isnull().sum()"
   ],
   "metadata": {
    "collapsed": false,
    "ExecuteTime": {
     "end_time": "2023-10-19T11:53:32.005475Z",
     "start_time": "2023-10-19T11:53:31.957119Z"
    }
   },
   "id": "bc21aa777066a49b"
  },
  {
   "cell_type": "code",
   "execution_count": 572,
   "outputs": [
    {
     "data": {
      "text/plain": "   Product ID     Product Name                              Description  \\\n0           1     Smartphone A  Sleek design, 64GB storage, 12MP camera   \n1           2         Laptop B            15.6 inch, 8GB RAM, 256GB SSD   \n2           3   Casual Shoes C                  Leather, size 10, brown   \n3           4     Travel Mug D                   Stainless steel, 500ml   \n4           5  Eau De Parfum E                      Floral scent, 100ml   \n\n         Category   Price                              Tokenized_Description  \n0     Electronics  699.99  [Sleek, design, ,, 64GB, storage, ,, 12MP, cam...  \n1     Electronics  999.99           [15.6, inch, ,, 8GB, RAM, ,, 256GB, SSD]  \n2         Fashion   79.99                   [Leather, ,, size, 10, ,, brown]  \n3  Home & Kitchen   14.99                       [Stainless, steel, ,, 500ml]  \n4          Beauty   49.99                          [Floral, scent, ,, 100ml]  ",
      "text/html": "<div>\n<style scoped>\n    .dataframe tbody tr th:only-of-type {\n        vertical-align: middle;\n    }\n\n    .dataframe tbody tr th {\n        vertical-align: top;\n    }\n\n    .dataframe thead th {\n        text-align: right;\n    }\n</style>\n<table border=\"1\" class=\"dataframe\">\n  <thead>\n    <tr style=\"text-align: right;\">\n      <th></th>\n      <th>Product ID</th>\n      <th>Product Name</th>\n      <th>Description</th>\n      <th>Category</th>\n      <th>Price</th>\n      <th>Tokenized_Description</th>\n    </tr>\n  </thead>\n  <tbody>\n    <tr>\n      <th>0</th>\n      <td>1</td>\n      <td>Smartphone A</td>\n      <td>Sleek design, 64GB storage, 12MP camera</td>\n      <td>Electronics</td>\n      <td>699.99</td>\n      <td>[Sleek, design, ,, 64GB, storage, ,, 12MP, cam...</td>\n    </tr>\n    <tr>\n      <th>1</th>\n      <td>2</td>\n      <td>Laptop B</td>\n      <td>15.6 inch, 8GB RAM, 256GB SSD</td>\n      <td>Electronics</td>\n      <td>999.99</td>\n      <td>[15.6, inch, ,, 8GB, RAM, ,, 256GB, SSD]</td>\n    </tr>\n    <tr>\n      <th>2</th>\n      <td>3</td>\n      <td>Casual Shoes C</td>\n      <td>Leather, size 10, brown</td>\n      <td>Fashion</td>\n      <td>79.99</td>\n      <td>[Leather, ,, size, 10, ,, brown]</td>\n    </tr>\n    <tr>\n      <th>3</th>\n      <td>4</td>\n      <td>Travel Mug D</td>\n      <td>Stainless steel, 500ml</td>\n      <td>Home &amp; Kitchen</td>\n      <td>14.99</td>\n      <td>[Stainless, steel, ,, 500ml]</td>\n    </tr>\n    <tr>\n      <th>4</th>\n      <td>5</td>\n      <td>Eau De Parfum E</td>\n      <td>Floral scent, 100ml</td>\n      <td>Beauty</td>\n      <td>49.99</td>\n      <td>[Floral, scent, ,, 100ml]</td>\n    </tr>\n  </tbody>\n</table>\n</div>"
     },
     "execution_count": 572,
     "metadata": {},
     "output_type": "execute_result"
    }
   ],
   "source": [
    "# tokenize the product descriptions so that the model can understand the text based on user query\n",
    "df['Tokenized_Description'] = df['Description'].apply(word_tokenize)\n",
    "df.head()\n"
   ],
   "metadata": {
    "collapsed": false,
    "ExecuteTime": {
     "end_time": "2023-10-19T11:53:32.005711Z",
     "start_time": "2023-10-19T11:53:31.964630Z"
    }
   },
   "id": "3734fb538eb7946e"
  },
  {
   "cell_type": "code",
   "execution_count": 573,
   "outputs": [],
   "source": [
    "# save the processed data to a csv file and first row is header\n",
    "df.to_csv('processed_data.csv', index=False, header=True)\n"
   ],
   "metadata": {
    "collapsed": false,
    "ExecuteTime": {
     "end_time": "2023-10-19T11:53:32.005745Z",
     "start_time": "2023-10-19T11:53:31.967053Z"
    }
   },
   "id": "8ff27e0ae6abfbd4"
  },
  {
   "cell_type": "code",
   "execution_count": 574,
   "outputs": [],
   "source": [
    "# read the processed data\n",
    "df_new = pd.read_csv('processed_data.csv')"
   ],
   "metadata": {
    "collapsed": false,
    "ExecuteTime": {
     "end_time": "2023-10-19T11:53:32.005826Z",
     "start_time": "2023-10-19T11:53:31.969958Z"
    }
   },
   "id": "17bb71d17477ae33"
  },
  {
   "cell_type": "markdown",
   "source": [
    "# 2. Model Training:\n",
    "*a. Use the processed data to train a simple recommendation model, based on\n",
    "the candidate's preference.\n",
    "b. The model should take a user's query and output the top 3 product\n",
    "recommendations based on similarity to product descriptions.*"
   ],
   "metadata": {
    "collapsed": false
   },
   "id": "748017de03190ddc"
  },
  {
   "cell_type": "code",
   "execution_count": 575,
   "outputs": [],
   "source": [
    "# import libraries\n",
    "import pandas as pd\n",
    "import nltk\n",
    "from nltk.tokenize import word_tokenize\n",
    "from sklearn.feature_extraction.text import TfidfVectorizer\n",
    "from sklearn.metrics.pairwise import cosine_similarity\n",
    "import warnings\n",
    "warnings.filterwarnings('ignore')\n"
   ],
   "metadata": {
    "collapsed": false,
    "ExecuteTime": {
     "end_time": "2023-10-19T11:53:32.006384Z",
     "start_time": "2023-10-19T11:53:31.975799Z"
    }
   },
   "id": "5757fba30eb4f150"
  },
  {
   "cell_type": "code",
   "execution_count": 576,
   "outputs": [
    {
     "data": {
      "text/plain": "   Product ID     Product Name                              Description  \\\n0           1     Smartphone A  Sleek design, 64GB storage, 12MP camera   \n1           2         Laptop B            15.6 inch, 8GB RAM, 256GB SSD   \n2           3   Casual Shoes C                  Leather, size 10, brown   \n3           4     Travel Mug D                   Stainless steel, 500ml   \n4           5  Eau De Parfum E                      Floral scent, 100ml   \n\n         Category   Price                              Tokenized_Description  \n0     Electronics  699.99  ['Sleek', 'design', ',', '64GB', 'storage', ',...  \n1     Electronics  999.99  ['15.6', 'inch', ',', '8GB', 'RAM', ',', '256G...  \n2         Fashion   79.99       ['Leather', ',', 'size', '10', ',', 'brown']  \n3  Home & Kitchen   14.99               ['Stainless', 'steel', ',', '500ml']  \n4          Beauty   49.99                  ['Floral', 'scent', ',', '100ml']  ",
      "text/html": "<div>\n<style scoped>\n    .dataframe tbody tr th:only-of-type {\n        vertical-align: middle;\n    }\n\n    .dataframe tbody tr th {\n        vertical-align: top;\n    }\n\n    .dataframe thead th {\n        text-align: right;\n    }\n</style>\n<table border=\"1\" class=\"dataframe\">\n  <thead>\n    <tr style=\"text-align: right;\">\n      <th></th>\n      <th>Product ID</th>\n      <th>Product Name</th>\n      <th>Description</th>\n      <th>Category</th>\n      <th>Price</th>\n      <th>Tokenized_Description</th>\n    </tr>\n  </thead>\n  <tbody>\n    <tr>\n      <th>0</th>\n      <td>1</td>\n      <td>Smartphone A</td>\n      <td>Sleek design, 64GB storage, 12MP camera</td>\n      <td>Electronics</td>\n      <td>699.99</td>\n      <td>['Sleek', 'design', ',', '64GB', 'storage', ',...</td>\n    </tr>\n    <tr>\n      <th>1</th>\n      <td>2</td>\n      <td>Laptop B</td>\n      <td>15.6 inch, 8GB RAM, 256GB SSD</td>\n      <td>Electronics</td>\n      <td>999.99</td>\n      <td>['15.6', 'inch', ',', '8GB', 'RAM', ',', '256G...</td>\n    </tr>\n    <tr>\n      <th>2</th>\n      <td>3</td>\n      <td>Casual Shoes C</td>\n      <td>Leather, size 10, brown</td>\n      <td>Fashion</td>\n      <td>79.99</td>\n      <td>['Leather', ',', 'size', '10', ',', 'brown']</td>\n    </tr>\n    <tr>\n      <th>3</th>\n      <td>4</td>\n      <td>Travel Mug D</td>\n      <td>Stainless steel, 500ml</td>\n      <td>Home &amp; Kitchen</td>\n      <td>14.99</td>\n      <td>['Stainless', 'steel', ',', '500ml']</td>\n    </tr>\n    <tr>\n      <th>4</th>\n      <td>5</td>\n      <td>Eau De Parfum E</td>\n      <td>Floral scent, 100ml</td>\n      <td>Beauty</td>\n      <td>49.99</td>\n      <td>['Floral', 'scent', ',', '100ml']</td>\n    </tr>\n  </tbody>\n</table>\n</div>"
     },
     "execution_count": 576,
     "metadata": {},
     "output_type": "execute_result"
    }
   ],
   "source": [
    "# read the processed data\n",
    "df = pd.read_csv('processed_data.csv')\n",
    "df.head()"
   ],
   "metadata": {
    "collapsed": false,
    "ExecuteTime": {
     "end_time": "2023-10-19T11:53:32.026242Z",
     "start_time": "2023-10-19T11:53:31.978055Z"
    }
   },
   "id": "e5be421429b8b40a"
  },
  {
   "cell_type": "code",
   "execution_count": 577,
   "outputs": [],
   "source": [
    "# create a tfidf vectorizer object\n",
    "tfidf = TfidfVectorizer()\n"
   ],
   "metadata": {
    "collapsed": false,
    "ExecuteTime": {
     "end_time": "2023-10-19T11:53:32.036478Z",
     "start_time": "2023-10-19T11:53:31.983952Z"
    }
   },
   "id": "64b3c7caf23d17e"
  },
  {
   "cell_type": "code",
   "execution_count": 578,
   "outputs": [
    {
     "data": {
      "text/plain": "TfidfVectorizer()",
      "text/html": "<style>#sk-container-id-20 {color: black;}#sk-container-id-20 pre{padding: 0;}#sk-container-id-20 div.sk-toggleable {background-color: white;}#sk-container-id-20 label.sk-toggleable__label {cursor: pointer;display: block;width: 100%;margin-bottom: 0;padding: 0.3em;box-sizing: border-box;text-align: center;}#sk-container-id-20 label.sk-toggleable__label-arrow:before {content: \"▸\";float: left;margin-right: 0.25em;color: #696969;}#sk-container-id-20 label.sk-toggleable__label-arrow:hover:before {color: black;}#sk-container-id-20 div.sk-estimator:hover label.sk-toggleable__label-arrow:before {color: black;}#sk-container-id-20 div.sk-toggleable__content {max-height: 0;max-width: 0;overflow: hidden;text-align: left;background-color: #f0f8ff;}#sk-container-id-20 div.sk-toggleable__content pre {margin: 0.2em;color: black;border-radius: 0.25em;background-color: #f0f8ff;}#sk-container-id-20 input.sk-toggleable__control:checked~div.sk-toggleable__content {max-height: 200px;max-width: 100%;overflow: auto;}#sk-container-id-20 input.sk-toggleable__control:checked~label.sk-toggleable__label-arrow:before {content: \"▾\";}#sk-container-id-20 div.sk-estimator input.sk-toggleable__control:checked~label.sk-toggleable__label {background-color: #d4ebff;}#sk-container-id-20 div.sk-label input.sk-toggleable__control:checked~label.sk-toggleable__label {background-color: #d4ebff;}#sk-container-id-20 input.sk-hidden--visually {border: 0;clip: rect(1px 1px 1px 1px);clip: rect(1px, 1px, 1px, 1px);height: 1px;margin: -1px;overflow: hidden;padding: 0;position: absolute;width: 1px;}#sk-container-id-20 div.sk-estimator {font-family: monospace;background-color: #f0f8ff;border: 1px dotted black;border-radius: 0.25em;box-sizing: border-box;margin-bottom: 0.5em;}#sk-container-id-20 div.sk-estimator:hover {background-color: #d4ebff;}#sk-container-id-20 div.sk-parallel-item::after {content: \"\";width: 100%;border-bottom: 1px solid gray;flex-grow: 1;}#sk-container-id-20 div.sk-label:hover label.sk-toggleable__label {background-color: #d4ebff;}#sk-container-id-20 div.sk-serial::before {content: \"\";position: absolute;border-left: 1px solid gray;box-sizing: border-box;top: 0;bottom: 0;left: 50%;z-index: 0;}#sk-container-id-20 div.sk-serial {display: flex;flex-direction: column;align-items: center;background-color: white;padding-right: 0.2em;padding-left: 0.2em;position: relative;}#sk-container-id-20 div.sk-item {position: relative;z-index: 1;}#sk-container-id-20 div.sk-parallel {display: flex;align-items: stretch;justify-content: center;background-color: white;position: relative;}#sk-container-id-20 div.sk-item::before, #sk-container-id-20 div.sk-parallel-item::before {content: \"\";position: absolute;border-left: 1px solid gray;box-sizing: border-box;top: 0;bottom: 0;left: 50%;z-index: -1;}#sk-container-id-20 div.sk-parallel-item {display: flex;flex-direction: column;z-index: 1;position: relative;background-color: white;}#sk-container-id-20 div.sk-parallel-item:first-child::after {align-self: flex-end;width: 50%;}#sk-container-id-20 div.sk-parallel-item:last-child::after {align-self: flex-start;width: 50%;}#sk-container-id-20 div.sk-parallel-item:only-child::after {width: 0;}#sk-container-id-20 div.sk-dashed-wrapped {border: 1px dashed gray;margin: 0 0.4em 0.5em 0.4em;box-sizing: border-box;padding-bottom: 0.4em;background-color: white;}#sk-container-id-20 div.sk-label label {font-family: monospace;font-weight: bold;display: inline-block;line-height: 1.2em;}#sk-container-id-20 div.sk-label-container {text-align: center;}#sk-container-id-20 div.sk-container {/* jupyter's `normalize.less` sets `[hidden] { display: none; }` but bootstrap.min.css set `[hidden] { display: none !important; }` so we also need the `!important` here to be able to override the default hidden behavior on the sphinx rendered scikit-learn.org. See: https://github.com/scikit-learn/scikit-learn/issues/21755 */display: inline-block !important;position: relative;}#sk-container-id-20 div.sk-text-repr-fallback {display: none;}</style><div id=\"sk-container-id-20\" class=\"sk-top-container\"><div class=\"sk-text-repr-fallback\"><pre>TfidfVectorizer()</pre><b>In a Jupyter environment, please rerun this cell to show the HTML representation or trust the notebook. <br />On GitHub, the HTML representation is unable to render, please try loading this page with nbviewer.org.</b></div><div class=\"sk-container\" hidden><div class=\"sk-item\"><div class=\"sk-estimator sk-toggleable\"><input class=\"sk-toggleable__control sk-hidden--visually\" id=\"sk-estimator-id-20\" type=\"checkbox\" checked><label for=\"sk-estimator-id-20\" class=\"sk-toggleable__label sk-toggleable__label-arrow\">TfidfVectorizer</label><div class=\"sk-toggleable__content\"><pre>TfidfVectorizer()</pre></div></div></div></div></div>"
     },
     "execution_count": 578,
     "metadata": {},
     "output_type": "execute_result"
    }
   ],
   "source": [
    "# fit the vectorizer object on the tokenized product descriptions\n",
    "tfidf.fit(df['Tokenized_Description'])"
   ],
   "metadata": {
    "collapsed": false,
    "ExecuteTime": {
     "end_time": "2023-10-19T11:53:32.037071Z",
     "start_time": "2023-10-19T11:53:31.987754Z"
    }
   },
   "id": "51226641a0645537"
  },
  {
   "cell_type": "code",
   "execution_count": 579,
   "outputs": [],
   "source": [
    "# transform the tokenized product descriptions\n",
    "tfidf_matrix = tfidf.transform(df['Tokenized_Description'])\n"
   ],
   "metadata": {
    "collapsed": false,
    "ExecuteTime": {
     "end_time": "2023-10-19T11:53:32.037140Z",
     "start_time": "2023-10-19T11:53:31.991126Z"
    }
   },
   "id": "412db99d2cf9d4bb"
  },
  {
   "cell_type": "code",
   "execution_count": 580,
   "outputs": [],
   "source": [
    "# compute the cosine similarity matrix\n",
    "cosine_sim = cosine_similarity(tfidf_matrix, tfidf_matrix)\n"
   ],
   "metadata": {
    "collapsed": false,
    "ExecuteTime": {
     "end_time": "2023-10-19T11:53:32.037212Z",
     "start_time": "2023-10-19T11:53:31.993887Z"
    }
   },
   "id": "e0a4903c85910c11"
  },
  {
   "cell_type": "code",
   "execution_count": 581,
   "outputs": [],
   "source": [
    "# save the cosine similarity matrix to a csv file\n",
    "pd.DataFrame(cosine_sim).to_csv('cosine_sim.csv', index=False, header=False)"
   ],
   "metadata": {
    "collapsed": false,
    "ExecuteTime": {
     "end_time": "2023-10-19T11:53:32.037267Z",
     "start_time": "2023-10-19T11:53:31.996898Z"
    }
   },
   "id": "b89cad36e9239bde"
  },
  {
   "cell_type": "code",
   "execution_count": 582,
   "outputs": [],
   "source": [
    "# read the cosine similarity matrix\n",
    "cosine_sim = pd.read_csv('cosine_sim.csv', header=None)"
   ],
   "metadata": {
    "collapsed": false,
    "ExecuteTime": {
     "end_time": "2023-10-19T11:53:32.037301Z",
     "start_time": "2023-10-19T11:53:32.000006Z"
    }
   },
   "id": "fb9fa3103f6a8762"
  },
  {
   "cell_type": "code",
   "execution_count": 583,
   "outputs": [],
   "source": [
    "# create a series of product names\n",
    "product_names = pd.Series(df['Product Name'])"
   ],
   "metadata": {
    "collapsed": false,
    "ExecuteTime": {
     "end_time": "2023-10-19T11:53:32.039342Z",
     "start_time": "2023-10-19T11:53:32.003583Z"
    }
   },
   "id": "5eeeff0751a2fef4"
  },
  {
   "cell_type": "code",
   "execution_count": 584,
   "outputs": [],
   "source": [
    "# function to recommend products based on user query\n",
    "def recommend_products(query):\n",
    "    # tokenize the user query\n",
    "    query = word_tokenize(query)\n",
    "    # transform the tokenized query\n",
    "    query = tfidf.transform(query)\n",
    "    # compute the cosine similarity between the user query and all product descriptions\n",
    "    similarity_scores = cosine_similarity(query, tfidf_matrix)\n",
    "    # get the indices of the top 3 most similar products\n",
    "    indices = similarity_scores.argsort()[0][-3:]\n",
    "    # get the product names corresponding to the indices\n",
    "    product_names = df['Product Name'].iloc[indices]\n",
    "    # return the product names\n",
    "    return product_names"
   ],
   "metadata": {
    "collapsed": false,
    "ExecuteTime": {
     "end_time": "2023-10-19T11:53:32.045496Z",
     "start_time": "2023-10-19T11:53:32.006435Z"
    }
   },
   "id": "bd1de5f1756ebf42"
  },
  {
   "cell_type": "code",
   "execution_count": 585,
   "outputs": [
    {
     "data": {
      "text/plain": "9      Wrist Watch J\n2     Casual Shoes C\n28        Sandals H1\nName: Product Name, dtype: object"
     },
     "execution_count": 585,
     "metadata": {},
     "output_type": "execute_result"
    }
   ],
   "source": [
    "# test the function\n",
    "recommend_products('leather jacket')"
   ],
   "metadata": {
    "collapsed": false,
    "ExecuteTime": {
     "end_time": "2023-10-19T11:53:32.050402Z",
     "start_time": "2023-10-19T11:53:32.010465Z"
    }
   },
   "id": "7f339b8c12f97b65"
  },
  {
   "cell_type": "code",
   "execution_count": 586,
   "outputs": [
    {
     "data": {
      "text/plain": "9      Wrist Watch J\n2     Casual Shoes C\n28        Sandals H1\nName: Product Name, dtype: object"
     },
     "execution_count": 586,
     "metadata": {},
     "output_type": "execute_result"
    }
   ],
   "source": [
    "recommend_products('Leather shoes') #"
   ],
   "metadata": {
    "collapsed": false,
    "ExecuteTime": {
     "end_time": "2023-10-19T11:53:32.058241Z",
     "start_time": "2023-10-19T11:53:32.014922Z"
    }
   },
   "id": "5c01914f80dde5b9"
  }
 ],
 "metadata": {
  "kernelspec": {
   "display_name": "Python 3",
   "language": "python",
   "name": "python3"
  },
  "language_info": {
   "codemirror_mode": {
    "name": "ipython",
    "version": 2
   },
   "file_extension": ".py",
   "mimetype": "text/x-python",
   "name": "python",
   "nbconvert_exporter": "python",
   "pygments_lexer": "ipython2",
   "version": "2.7.6"
  }
 },
 "nbformat": 4,
 "nbformat_minor": 5
}
