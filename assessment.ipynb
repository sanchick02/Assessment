{
 "cells": [
  {
   "cell_type": "markdown",
   "source": [
    "# Technical Assessment for a Full Stack AI/ML Engineer Role\n",
    "## Task\n",
    "*Develop a mini AI-based chatbot system that recommends products based on user queries.\n",
    "The chatbot should be able to understand the user's text input, process it, and recommend a\n",
    "list of products.*"
   ],
   "metadata": {
    "collapsed": false
   },
   "id": "8fdb8b118498dd92"
  },
  {
   "cell_type": "markdown",
   "source": [
    "# 1. Data Preparation:\n",
    "*a. Given a mock dataset of products in a CSV format with the following fields:*\n",
    "**i. Product ID\n",
    "ii. Product Name\n",
    "iii. Description\n",
    "iv. Category\n",
    "v. Price**\n",
    "*b. Preprocess the dataset:*\n",
    "**i. Handle missing values\n",
    "ii. Tokenization of product descriptions**"
   ],
   "metadata": {
    "collapsed": false
   },
   "id": "84996bd0f6fb6590"
  },
  {
   "cell_type": "code",
   "execution_count": 66,
   "outputs": [],
   "source": [
    "import pandas as pd\n",
    "import nltk\n",
    "from nltk.tokenize import word_tokenize\n",
    "\n",
    "import warnings\n",
    "warnings.filterwarnings('ignore')"
   ],
   "metadata": {
    "collapsed": false,
    "ExecuteTime": {
     "end_time": "2023-10-19T10:37:45.498893Z",
     "start_time": "2023-10-19T10:37:44.375548Z"
    }
   },
   "id": "47e02f46a4d5b1cd"
  },
  {
   "cell_type": "code",
   "execution_count": 67,
   "outputs": [
    {
     "data": {
      "text/plain": "   Product ID     Product Name                              Description  \\\n0           1     Smartphone A  Sleek design, 64GB storage, 12MP camera   \n1           2         Laptop B            15.6 inch, 8GB RAM, 256GB SSD   \n2           3   Casual Shoes C                  Leather, size 10, brown   \n3           4     Travel Mug D                   Stainless steel, 500ml   \n4           5  Eau De Parfum E                      Floral scent, 100ml   \n\n         Category   Price  \n0     Electronics  699.99  \n1     Electronics  999.99  \n2         Fashion   79.99  \n3  Home & Kitchen   14.99  \n4          Beauty   49.99  ",
      "text/html": "<div>\n<style scoped>\n    .dataframe tbody tr th:only-of-type {\n        vertical-align: middle;\n    }\n\n    .dataframe tbody tr th {\n        vertical-align: top;\n    }\n\n    .dataframe thead th {\n        text-align: right;\n    }\n</style>\n<table border=\"1\" class=\"dataframe\">\n  <thead>\n    <tr style=\"text-align: right;\">\n      <th></th>\n      <th>Product ID</th>\n      <th>Product Name</th>\n      <th>Description</th>\n      <th>Category</th>\n      <th>Price</th>\n    </tr>\n  </thead>\n  <tbody>\n    <tr>\n      <th>0</th>\n      <td>1</td>\n      <td>Smartphone A</td>\n      <td>Sleek design, 64GB storage, 12MP camera</td>\n      <td>Electronics</td>\n      <td>699.99</td>\n    </tr>\n    <tr>\n      <th>1</th>\n      <td>2</td>\n      <td>Laptop B</td>\n      <td>15.6 inch, 8GB RAM, 256GB SSD</td>\n      <td>Electronics</td>\n      <td>999.99</td>\n    </tr>\n    <tr>\n      <th>2</th>\n      <td>3</td>\n      <td>Casual Shoes C</td>\n      <td>Leather, size 10, brown</td>\n      <td>Fashion</td>\n      <td>79.99</td>\n    </tr>\n    <tr>\n      <th>3</th>\n      <td>4</td>\n      <td>Travel Mug D</td>\n      <td>Stainless steel, 500ml</td>\n      <td>Home &amp; Kitchen</td>\n      <td>14.99</td>\n    </tr>\n    <tr>\n      <th>4</th>\n      <td>5</td>\n      <td>Eau De Parfum E</td>\n      <td>Floral scent, 100ml</td>\n      <td>Beauty</td>\n      <td>49.99</td>\n    </tr>\n  </tbody>\n</table>\n</div>"
     },
     "execution_count": 67,
     "metadata": {},
     "output_type": "execute_result"
    }
   ],
   "source": [
    "df = pd.read_csv('mini-product-recommender-dataset.csv')\n",
    "df.head()"
   ],
   "metadata": {
    "collapsed": false,
    "ExecuteTime": {
     "end_time": "2023-10-19T10:37:45.523453Z",
     "start_time": "2023-10-19T10:37:44.379536Z"
    }
   },
   "id": "49bcf4d1c5c7f84c"
  },
  {
   "cell_type": "code",
   "execution_count": 68,
   "outputs": [
    {
     "name": "stdout",
     "output_type": "stream",
     "text": [
      "<class 'pandas.core.frame.DataFrame'>\n",
      "RangeIndex: 40 entries, 0 to 39\n",
      "Data columns (total 5 columns):\n",
      " #   Column        Non-Null Count  Dtype  \n",
      "---  ------        --------------  -----  \n",
      " 0   Product ID    40 non-null     int64  \n",
      " 1   Product Name  38 non-null     object \n",
      " 2   Description   36 non-null     object \n",
      " 3   Category      37 non-null     object \n",
      " 4   Price         36 non-null     float64\n",
      "dtypes: float64(1), int64(1), object(3)\n",
      "memory usage: 1.7+ KB\n"
     ]
    }
   ],
   "source": [
    "df.info()"
   ],
   "metadata": {
    "collapsed": false,
    "ExecuteTime": {
     "end_time": "2023-10-19T10:37:45.523736Z",
     "start_time": "2023-10-19T10:37:44.390417Z"
    }
   },
   "id": "2e296fa52654e942"
  },
  {
   "cell_type": "code",
   "execution_count": 69,
   "outputs": [
    {
     "data": {
      "text/plain": "Product ID      0\nProduct Name    2\nDescription     4\nCategory        3\nPrice           4\ndtype: int64"
     },
     "execution_count": 69,
     "metadata": {},
     "output_type": "execute_result"
    }
   ],
   "source": [
    "df.isnull().sum()"
   ],
   "metadata": {
    "collapsed": false,
    "ExecuteTime": {
     "end_time": "2023-10-19T10:37:45.523953Z",
     "start_time": "2023-10-19T10:37:44.393709Z"
    }
   },
   "id": "a87d4cc0eded2e60"
  },
  {
   "cell_type": "code",
   "execution_count": 70,
   "outputs": [
    {
     "data": {
      "text/plain": "Category\nElectronics               8\nFashion                   7\nHome & Kitchen            6\nBeauty                    3\nBooks                     2\nGrocery                   2\nSports                    2\nToys & Games              2\nMovies & TV               1\nMusical Instruments       1\nArts & Crafts             1\nHealth & Personal Care    1\nPets                      1\nName: count, dtype: int64"
     },
     "execution_count": 70,
     "metadata": {},
     "output_type": "execute_result"
    }
   ],
   "source": [
    "df['Category'].value_counts()"
   ],
   "metadata": {
    "collapsed": false,
    "ExecuteTime": {
     "end_time": "2023-10-19T10:37:45.532926Z",
     "start_time": "2023-10-19T10:37:44.398153Z"
    }
   },
   "id": "ed8e931e9a0e4813"
  },
  {
   "cell_type": "code",
   "execution_count": 71,
   "outputs": [],
   "source": [
    "df['Category'].fillna('Others', inplace=True)"
   ],
   "metadata": {
    "collapsed": false,
    "ExecuteTime": {
     "end_time": "2023-10-19T10:37:45.533072Z",
     "start_time": "2023-10-19T10:37:44.401114Z"
    }
   },
   "id": "76412f8c3ecd3d72"
  },
  {
   "cell_type": "code",
   "execution_count": 72,
   "outputs": [
    {
     "data": {
      "text/plain": "Product ID      0\nProduct Name    2\nDescription     4\nCategory        0\nPrice           4\ndtype: int64"
     },
     "execution_count": 72,
     "metadata": {},
     "output_type": "execute_result"
    }
   ],
   "source": [
    "df.isnull().sum()"
   ],
   "metadata": {
    "collapsed": false,
    "ExecuteTime": {
     "end_time": "2023-10-19T10:37:45.533216Z",
     "start_time": "2023-10-19T10:37:44.404044Z"
    }
   },
   "id": "1209626245ff14fb"
  },
  {
   "cell_type": "code",
   "execution_count": 73,
   "outputs": [],
   "source": [
    "# drop rows with missing values\n",
    "df.dropna(inplace=True)"
   ],
   "metadata": {
    "collapsed": false,
    "ExecuteTime": {
     "end_time": "2023-10-19T10:37:45.533257Z",
     "start_time": "2023-10-19T10:37:44.407212Z"
    }
   },
   "id": "f3988ad313026d6c"
  },
  {
   "cell_type": "code",
   "execution_count": 74,
   "outputs": [],
   "source": [
    "df.isnull().sum()"
   ],
   "metadata": {
    "collapsed": false,
    "ExecuteTime": {
     "end_time": "2023-10-19T10:37:45.533294Z",
     "start_time": "2023-10-19T10:37:44.409449Z"
    }
   },
   "id": "6289b5947cb261fb"
  },
  {
   "cell_type": "code",
   "execution_count": 75,
   "outputs": [],
   "source": [
    "df.isnull().sum()"
   ],
   "metadata": {
    "collapsed": false,
    "ExecuteTime": {
     "end_time": "2023-10-19T10:37:45.533328Z",
     "start_time": "2023-10-19T10:37:44.411327Z"
    }
   },
   "id": "bc21aa777066a49b"
  },
  {
   "cell_type": "code",
   "execution_count": 76,
   "outputs": [],
   "source": [
    "# tokenize the product descriptions so that the model can understand the text based on user query\n",
    "df['Tokenized_Description'] = df['Description'].apply(word_tokenize)\n",
    "df.head()\n"
   ],
   "metadata": {
    "collapsed": false,
    "ExecuteTime": {
     "end_time": "2023-10-19T10:37:45.533374Z",
     "start_time": "2023-10-19T10:37:44.415910Z"
    }
   },
   "id": "3734fb538eb7946e"
  },
  {
   "cell_type": "code",
   "execution_count": 77,
   "outputs": [],
   "source": [
    "# save the processed data to a csv file\n",
    "df.to_csv('processed_data.csv', index=False)\n"
   ],
   "metadata": {
    "collapsed": false,
    "ExecuteTime": {
     "end_time": "2023-10-19T10:37:45.533415Z",
     "start_time": "2023-10-19T10:37:44.419214Z"
    }
   },
   "id": "8ff27e0ae6abfbd4"
  },
  {
   "cell_type": "code",
   "execution_count": 78,
   "outputs": [],
   "source": [
    "# read the processed data\n",
    "df = pd.read_csv('processed_data.csv')\n",
    "df.head()"
   ],
   "metadata": {
    "collapsed": false,
    "ExecuteTime": {
     "end_time": "2023-10-19T10:37:45.533452Z",
     "start_time": "2023-10-19T10:37:44.422117Z"
    }
   },
   "id": "17bb71d17477ae33"
  },
  {
   "cell_type": "markdown",
   "source": [
    "# 2. Model Training:\n",
    "*a. Use the processed data to train a simple recommendation model, based on\n",
    "the candidate's preference.\n",
    "b. The model should take a user's query and output the top 3 product\n",
    "recommendations based on similarity to product descriptions.*"
   ],
   "metadata": {
    "collapsed": false
   },
   "id": "748017de03190ddc"
  },
  {
   "cell_type": "code",
   "execution_count": 79,
   "outputs": [],
   "source": [
    "# train the model using the tokenized descriptions so that when user query is given, the model can find the most similar product description\n",
    "from sklearn.feature_extraction.text import TfidfVectorizer\n",
    "from sklearn.metrics.pairwise import cosine_similarity\n",
    "\n"
   ],
   "metadata": {
    "collapsed": false,
    "ExecuteTime": {
     "end_time": "2023-10-19T10:37:45.533495Z",
     "start_time": "2023-10-19T10:37:44.429578Z"
    }
   },
   "id": "f588fbd699232e64"
  },
  {
   "cell_type": "code",
   "execution_count": 80,
   "outputs": [],
   "source": [
    "# create a tfidf vectorizer object\n",
    "tfidf = TfidfVectorizer()\n",
    "\n",
    "# fit the vectorizer using the tokenized descriptions\n",
    "tfidf.fit(df['Tokenized_Description'])\n",
    "\n",
    "# transform the tokenized descriptions\n",
    "tfidf_descriptions = tfidf.transform(df['Tokenized_Description'])\n",
    "\n"
   ],
   "metadata": {
    "collapsed": false,
    "ExecuteTime": {
     "end_time": "2023-10-19T10:37:45.533534Z",
     "start_time": "2023-10-19T10:37:44.432186Z"
    }
   },
   "id": "cd1ea115c3751ac4"
  },
  {
   "cell_type": "code",
   "execution_count": 81,
   "outputs": [],
   "source": [
    "# create a dataframe with the transformed descriptions\n",
    "tfidf_descriptions_df = pd.DataFrame(tfidf_descriptions.toarray(), index=df.index.tolist())\n",
    "\n"
   ],
   "metadata": {
    "collapsed": false,
    "ExecuteTime": {
     "end_time": "2023-10-19T10:37:45.533570Z",
     "start_time": "2023-10-19T10:37:44.435688Z"
    }
   },
   "id": "43accc858ed68cd4"
  }
 ],
 "metadata": {
  "kernelspec": {
   "display_name": "Python 3",
   "language": "python",
   "name": "python3"
  },
  "language_info": {
   "codemirror_mode": {
    "name": "ipython",
    "version": 2
   },
   "file_extension": ".py",
   "mimetype": "text/x-python",
   "name": "python",
   "nbconvert_exporter": "python",
   "pygments_lexer": "ipython2",
   "version": "2.7.6"
  }
 },
 "nbformat": 4,
 "nbformat_minor": 5
}
